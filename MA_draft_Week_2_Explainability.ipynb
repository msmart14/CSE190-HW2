{
  "nbformat": 4,
  "nbformat_minor": 0,
  "metadata": {
    "kernelspec": {
      "display_name": "Python 3",
      "language": "python",
      "name": "python3"
    },
    "language_info": {
      "codemirror_mode": {
        "name": "ipython",
        "version": 3
      },
      "file_extension": ".py",
      "mimetype": "text/x-python",
      "name": "python",
      "nbconvert_exporter": "python",
      "pygments_lexer": "ipython3",
      "version": "3.6.8"
    },
    "toc": {
      "base_numbering": 1,
      "nav_menu": {},
      "number_sections": false,
      "sideBar": false,
      "skip_h1_title": false,
      "title_cell": "Table of Contents",
      "title_sidebar": "Contents",
      "toc_cell": false,
      "toc_position": {},
      "toc_section_display": false,
      "toc_window_display": false
    },
    "colab": {
      "name": "MA_draft_Week_2_Explainability.ipynb",
      "provenance": [],
      "collapsed_sections": []
    }
  },
  "cells": [
    {
      "cell_type": "markdown",
      "metadata": {
        "id": "8HhoaZMxrZXZ"
      },
      "source": [
        "# Home Loan Prediction\n",
        "The last assignment explored datasets related to home loan applications in San Diego county. Now we will train a machine learning model to predict whether to accept or reject a loan application.\n",
        "\n",
        "**Your goal in this assignment is to explore different kinds of explanations of machine learning models.**\n",
        "\n",
        "\n",
        "## Part 1: Building a Model\n",
        "\n",
        "Upload the .zip file ('data.zip') included in the homework assignment. I **strongly** recommend using the following code rather than the Colab web interface for uploading files, particularly for those with slower internet connections. "
      ]
    },
    {
      "cell_type": "code",
      "metadata": {
        "id": "bduXgr6K4QF5"
      },
      "source": [
        "from google.colab import files\n",
        "uploaded = files.upload()"
      ],
      "execution_count": null,
      "outputs": []
    },
    {
      "cell_type": "code",
      "metadata": {
        "id": "rH4-NUYa4im1"
      },
      "source": [
        "import zipfile\n",
        "import io\n",
        "zf = zipfile.ZipFile(io.BytesIO(uploaded['data.zip']),\"r\")\n",
        "zf.extractall()"
      ],
      "execution_count": null,
      "outputs": []
    },
    {
      "cell_type": "markdown",
      "metadata": {
        "id": "A95MpbULaY4G"
      },
      "source": [
        "We will use the home_loans_1.csv dataset from the last assignment.\n",
        "\n",
        "\n"
      ]
    },
    {
      "cell_type": "code",
      "metadata": {
        "id": "K0ZlYOlqZJEd"
      },
      "source": [
        "import pandas as pd # import pandas library\n",
        "df = pd.read_csv('data/home_loans_1.csv', low_memory=False) # read the csv file into a pandas dataframe object"
      ],
      "execution_count": null,
      "outputs": []
    },
    {
      "cell_type": "markdown",
      "metadata": {
        "id": "SST2-iyfonm-"
      },
      "source": [
        "First, we want to split the data into two separate dataframes. One dataframe will hold the data that we want to use to predict whether we should approve the loan application. The other dataframe should hold the data about the actual approval decisions that were previously made by humans. Next, we transform text data into numerical data so that we can apply our machine learning algorithm. "
      ]
    },
    {
      "cell_type": "code",
      "metadata": {
        "id": "JNYluuU5pN2n"
      },
      "source": [
        "input_columns = df.columns.drop(labels=['denial_reason', 'loan_approved'])\n",
        "X = df[input_columns]\n",
        "y = df['loan_approved']\n",
        "text_columns = X.dtypes[X.dtypes == 'object'].index\n",
        "X = pd.get_dummies(X, columns=text_columns)"
      ],
      "execution_count": null,
      "outputs": []
    },
    {
      "cell_type": "markdown",
      "metadata": {
        "id": "j3wr0IcPrZXf"
      },
      "source": [
        "We will use [scikit learn](https://scikit-learn.org/stable/index.html) to build our machine learning model.\n",
        "\n",
        "First, we will split the data into a training set and a test set."
      ]
    },
    {
      "cell_type": "code",
      "metadata": {
        "id": "OdpPy6_whvBN"
      },
      "source": [
        "from sklearn.model_selection import train_test_split\n",
        "X_train, X_test, y_train, y_test = train_test_split(X, y, test_size=0.2, random_state=0)"
      ],
      "execution_count": null,
      "outputs": []
    },
    {
      "cell_type": "markdown",
      "metadata": {
        "id": "9mQEkOXFhuVj"
      },
      "source": [
        "### Question 1.A: How many rows are in the training set, and how many are in the test set?  \n",
        "#### (Review the [pandas documentation](https://pandas.pydata.org/pandas-docs/stable/reference/frame.html) if necessary.)\n",
        "_Double click to write your answer question here. Show your work in code below if applicable._"
      ]
    },
    {
      "cell_type": "code",
      "metadata": {
        "id": "SiOap69PiH7E"
      },
      "source": [
        ""
      ],
      "execution_count": null,
      "outputs": []
    },
    {
      "cell_type": "markdown",
      "metadata": {
        "id": "2bWNOQB-koIV"
      },
      "source": [
        "Now we train a nearest neighbors classifier on the training data and calculate the accuracy on the training set."
      ]
    },
    {
      "cell_type": "code",
      "metadata": {
        "id": "zevPKI_akwnw"
      },
      "source": [
        "from sklearn.preprocessing import StandardScaler\n",
        "from sklearn.neighbors import KNeighborsClassifier\n",
        "from sklearn.pipeline import make_pipeline\n",
        "pipeline = make_pipeline(StandardScaler(), KNeighborsClassifier())\n",
        "model = pipeline.fit(X_train, y_train) "
      ],
      "execution_count": null,
      "outputs": []
    },
    {
      "cell_type": "code",
      "metadata": {
        "id": "WGywz40SlP18"
      },
      "source": [
        "predictions = model.predict(X_train)\n",
        "accuracy = sum(predictions==y_train)/len(y_train)\n",
        "'The accuracy on the training set is about {}%'.format(round(accuracy*100, 1))\n"
      ],
      "execution_count": null,
      "outputs": []
    },
    {
      "cell_type": "markdown",
      "metadata": {
        "id": "Ow5emCJprZXg"
      },
      "source": [
        "### Question 1.B: What is the accuracy of our model on the test set?\n",
        "_Double click to write your answer question here. Show your work in code below if applicable._"
      ]
    },
    {
      "cell_type": "code",
      "metadata": {
        "id": "BscEuPb-rZXh"
      },
      "source": [
        ""
      ],
      "execution_count": null,
      "outputs": []
    },
    {
      "cell_type": "markdown",
      "metadata": {
        "id": "AilZ0niya-d7"
      },
      "source": [
        "## Part 2: Understanding Individual Predictions\n",
        "\n",
        "### Question 2.A: Suppose this model were used to automatically approve or deny loan applications. What are 3 questions that someone might have about the model if it denied their loan application?\n",
        "\n",
        "_Double click to write your answer question here. Show your work in code below if applicable._\n",
        "\n",
        "\n",
        "1.   \n",
        "2.   \n",
        "3.   \n",
        "\n"
      ]
    },
    {
      "cell_type": "code",
      "metadata": {
        "id": "K_5e9D7ZnUG_"
      },
      "source": [
        ""
      ],
      "execution_count": null,
      "outputs": []
    },
    {
      "cell_type": "markdown",
      "metadata": {
        "id": "SQtzXJapJD4M"
      },
      "source": [
        "Let's look at one of the loan applications from the test set that our model would deny."
      ]
    },
    {
      "cell_type": "code",
      "metadata": {
        "id": "X60CUrlLJOXC"
      },
      "source": [
        "application = X_test[model.predict(X_test)==0].iloc[[0]]\n",
        "application"
      ],
      "execution_count": null,
      "outputs": []
    },
    {
      "cell_type": "markdown",
      "metadata": {
        "id": "duLQvDp5VB-P"
      },
      "source": [
        "We can look at this application's nearest neighbors from the training set."
      ]
    },
    {
      "cell_type": "code",
      "metadata": {
        "id": "zYcBldPNXG6H"
      },
      "source": [
        "neighbor_indices = model['kneighborsclassifier'].kneighbors(application)[1][0]\n",
        "neighbors = X_train.iloc[neighbor_indices].copy()\n",
        "neighbors['loan_approved']=y_train.iloc[neighbor_indices]\n",
        "neighbors"
      ],
      "execution_count": null,
      "outputs": []
    },
    {
      "cell_type": "markdown",
      "metadata": {
        "id": "Nc545ftxdhU_"
      },
      "source": [
        "### Question 2.B: What would happen if this applicant's income doubled (but everything else stayed the same)? Would the model approve this new application?\n",
        "\n",
        "_Double click to write your answer question here. Show your work in code below if applicable._"
      ]
    },
    {
      "cell_type": "code",
      "metadata": {
        "id": "RDuQCqv8aAoS"
      },
      "source": [
        ""
      ],
      "execution_count": null,
      "outputs": []
    },
    {
      "cell_type": "markdown",
      "metadata": {
        "id": "o2DqKKOyflzA"
      },
      "source": [
        "### Question 2.C: Imagine that you are designing a tool that shows applicants the model's output for their application and displays some additional information explaining the model's output. Sketch three different versions of what this tool might look like. These sketches should be rough--hand-drawn sketches are preferred. \n",
        "\n",
        "_Attach a pdf with your sketches. Please include any annotations/description on the pdf itself (not in this notebook)._"
      ]
    }
  ]
}
